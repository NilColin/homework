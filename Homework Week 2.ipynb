{
 "cells": [
  {
   "cell_type": "markdown",
   "metadata": {},
   "source": [
    "Homework Week 2\n",
    "Media Practices: Programming\n",
    "This assignment is mostly about practicing manipulating numbers and strings in python. It ends with backing an algorithm out of code.\n"
   ]
  },
  {
   "cell_type": "markdown",
   "metadata": {},
   "source": [
    "Write code that when you run the cell generates a tic-tac-toe board\n",
    "Expected output:\n",
    "\n",
    "  |  |  \n",
    "--------\n",
    "  |  |  \n",
    "--------\n",
    "  |  |  \n",
    "\n",
    "First just use print statements"
   ]
  },
  {
   "cell_type": "code",
   "execution_count": null,
   "metadata": {
    "collapsed": false
   },
   "outputs": [],
   "source": [
    "print('  |  |  ')\n",
    "print('________')     \n",
    "print('  |  |  ')\n",
    "print('________')       \n",
    "print('  |  |  ')\n"
   ]
  },
  {
   "cell_type": "markdown",
   "metadata": {},
   "source": [
    "Now do it using variables"
   ]
  },
  {
   "cell_type": "code",
   "execution_count": null,
   "metadata": {
    "collapsed": false
   },
   "outputs": [],
   "source": [
    "x = '  |  |'\n",
    "y = '________'\n",
    "\n",
    "print(x)\n",
    "print(y)\n",
    "print(x)\n",
    "print(y)\n",
    "print(x)\n",
    "\n"
   ]
  },
  {
   "cell_type": "markdown",
   "metadata": {},
   "source": [
    "Starting with x and y as defined, write code to print the larger number"
   ]
  },
  {
   "cell_type": "code",
   "execution_count": null,
   "metadata": {
    "collapsed": false
   },
   "outputs": [],
   "source": [
    "x = 54\n",
    "y = 23\n",
    "\n",
    "if y > x:\n",
    "    print y\n",
    "if x > y:\n",
    "    print x\n"
   ]
  },
  {
   "cell_type": "markdown",
   "metadata": {},
   "source": [
    "Starting with x, y, and z as defined, write code to print the largest number"
   ]
  },
  {
   "cell_type": "code",
   "execution_count": null,
   "metadata": {
    "collapsed": false
   },
   "outputs": [],
   "source": [
    "x = -54\n",
    "y = 23\n",
    "z = 4\n",
    "\n",
    "if y > x and y > z:\n",
    "    print y\n",
    "if x > y and x > z:\n",
    "    print x\n",
    "if z > y and z > x:\n",
    "    print z\n"
   ]
  },
  {
   "cell_type": "raw",
   "metadata": {},
   "source": [
    "Write a vowel recognizer"
   ]
  },
  {
   "cell_type": "code",
   "execution_count": 2,
   "metadata": {
    "collapsed": false
   },
   "outputs": [
    {
     "name": "stdout",
     "output_type": "stream",
     "text": [
      "Enter a character (be sure it is in quotes)\"U\"\n",
      "This is a vowel\n"
     ]
    }
   ],
   "source": [
    "char_in = input(\"Enter a character (be sure it is in quotes)\")\n",
    "#your code\n",
    "vowel = False\n",
    "if char_in == 'a':\n",
    "    vowel = True\n",
    "    print \"This is a vowel\"\n",
    "if char_in == 'e':\n",
    "    vowel = True\n",
    "    print \"This is a vowel\"\n",
    "if char_in == 'i':\n",
    "    vowel = True\n",
    "    print \"This is a vowel\"\n",
    "if char_in == 'o':\n",
    "    vowel = True\n",
    "    print \"This is a vowel\"\n",
    "if char_in == 'u':\n",
    "    vowel = True\n",
    "    print \"This is a vowel\"\n",
    "if char_in == 'A':\n",
    "    vowel = True\n",
    "    print \"This is a vowel\"\n",
    "if char_in == 'E':\n",
    "    vowel = True\n",
    "    print \"This is a vowel\"\n",
    "if char_in == 'I':\n",
    "    vowel = True\n",
    "    print \"This is a vowel\"\n",
    "if char_in == 'O':\n",
    "    vowel = True\n",
    "    print \"This is a vowel\"\n",
    "if char_in == 'U':\n",
    "    vowel = True\n",
    "    print \"This is a vowel\"\n",
    "if vowel != True:\n",
    "    print \"This is not a vowel\""
   ]
  },
  {
   "cell_type": "code",
   "execution_count": null,
   "metadata": {
    "collapsed": false
   },
   "outputs": [],
   "source": []
  },
  {
   "cell_type": "markdown",
   "metadata": {},
   "source": [
    "Turn the following code into English\n"
   ]
  },
  {
   "cell_type": "code",
   "execution_count": null,
   "metadata": {
    "collapsed": false
   },
   "outputs": [],
   "source": [
    "import random\n",
    "a = random.choice(range(1,11))\n",
    "b = 0\n",
    "while (a != b):\n",
    "    b = int(input(\"What? \"))\n",
    "    if abs(a-b) > 4:\n",
    "        print \"Pfft\"\n",
    "    elif abs(a-b) > 2:\n",
    "        print \"Meh\"\n",
    "    elif abs(a-b)>0:\n",
    "        print \"Hmmmm\"\n",
    "    else:\n",
    "        print \"OK\"\n",
    "        \n",
    "#Import random from the library\n",
    "#create a variable a that is a random number between one and ten\n",
    "#create a variable b that is zero\n",
    "#while and and be are unequal:\n",
    "    #variable b becomes whatever the user inputs\n",
    "    #if the absolute value of a minus b is greater than four\n",
    "        #print the string \"Pfft\"\n",
    "    #if the absolute value of a minus b is greater than two and less than four\n",
    "        #print the string \"meh\"\n",
    "    #if the absolute value of a minus b is greater than zero and less than two\n",
    "        #print the string \"Hmmmm\"\n",
    "    #For any other difference in numbers (in this case, if the absolute value of a minus b is exactly zero)\n",
    "        # print the string \"OK\"\n"
   ]
  },
  {
   "cell_type": "markdown",
   "metadata": {},
   "source": [
    "Now modify it into readable code. Be sure to make variables for all the numbers"
   ]
  },
  {
   "cell_type": "code",
   "execution_count": null,
   "metadata": {
    "collapsed": true
   },
   "outputs": [],
   "source": [
    "import random\n",
    "Number_to_Guess = random.choice(range(1,11))\n",
    "Users_Guess = 0\n",
    "while (Number_to_Guess != Users_Guess):\n",
    "    Users_Guess = int(input(\"What? \"))\n",
    "    if abs(Number_to_Guess-Users_Guess) > 4:\n",
    "        print \"Pfft\"\n",
    "    elif abs(Number_to_Guess-Users_Guess) > 2:\n",
    "        print \"Meh\"\n",
    "    elif abs(Number_to_Guess-Users_Guess)>0:\n",
    "        print \"Hmmmm\"\n",
    "    else:\n",
    "        print \"OK\""
   ]
  },
  {
   "cell_type": "markdown",
   "metadata": {},
   "source": [
    "Write an algorithm to print the lyrics to \"99 Bottles of Beer on the Wall\"\n",
    "99 bottles of beer on the wall, 99 bottles of beer.\n",
    "Take one down, pass it around, 98 bottles of beer on the wall.\n",
    "98 bottles of beer on the wall, 98 bottles of beer.\n",
    "Take one down, pass it around, 97 bottles of beer on the wall.\n",
    "...\n",
    "no more bottles of beer on the wall.\n"
   ]
  },
  {
   "cell_type": "code",
   "execution_count": null,
   "metadata": {
    "collapsed": true
   },
   "outputs": [],
   "source": [
    "While the number of bottles of beer on the wall is greater (n) than zero, print the text \"n bottles of beer on the wall, n bottles of beer. Take one down, pass it around, n-1 bottles of beer on the wall\" update n to the new number, and repeat. "
   ]
  },
  {
   "cell_type": "markdown",
   "metadata": {},
   "source": [
    "For the brave, implement your algorithm in Python"
   ]
  },
  {
   "cell_type": "code",
   "execution_count": null,
   "metadata": {
    "collapsed": true
   },
   "outputs": [],
   "source": []
  }
 ],
 "metadata": {
  "kernelspec": {
   "display_name": "Python 2",
   "language": "python",
   "name": "python2"
  },
  "language_info": {
   "codemirror_mode": {
    "name": "ipython",
    "version": 2
   },
   "file_extension": ".py",
   "mimetype": "text/x-python",
   "name": "python",
   "nbconvert_exporter": "python",
   "pygments_lexer": "ipython2",
   "version": "2.7.10"
  }
 },
 "nbformat": 4,
 "nbformat_minor": 0
}
